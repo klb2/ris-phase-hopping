{
 "cells": [
  {
   "cell_type": "markdown",
   "metadata": {},
   "source": [
    "# Artificial Fast Fading from RIS"
   ]
  },
  {
   "cell_type": "markdown",
   "metadata": {},
   "source": [
    "_Author:_ Karl-Ludwig Besser, Technische Universität Braunschweig\n",
    "\n",
    "This notebook is part of the paper \"Artificial Fast Fading from\n",
    "Reconfigurable Surfaces Enables Ultra-Reliable Communications\" (Eduard Jorswieck, Karl-Ludwig Besser, and Cong Sun. IEEE SPAWC 2021).\n",
    "\n",
    "If you use any of this work, please cite the above paper."
   ]
  },
  {
   "cell_type": "markdown",
   "metadata": {},
   "source": [
    "> If you are not familiar with Jupyter notebooks: The easiest way to use this notebook interactively, is to hit `Kernel --> Restart & Run All` in the menu. This will execute all cells and enable the interactive elements of the plots.  \n",
    "> Alternatively, you can execute the cells one by one using Shift+Return"
   ]
  },
  {
   "cell_type": "code",
   "execution_count": 4,
   "metadata": {},
   "outputs": [],
   "source": [
    "import numpy as np\n",
    "from scipy import stats\n",
    "%matplotlib widget\n",
    "import matplotlib.pyplot as plt\n",
    "from ipywidgets import interact, interact_manual"
   ]
  },
  {
   "cell_type": "code",
   "execution_count": 5,
   "metadata": {},
   "outputs": [],
   "source": [
    "from phases import gains_constant_phase, rvs_channel_phases, rvs_ris_phases, rvs_ris_phases_quant"
   ]
  },
  {
   "cell_type": "markdown",
   "metadata": {},
   "source": [
    "# Constant RIS Phases\n",
    "\n",
    "First, the all RIS phases are fixed to the constant value $\\theta_i=0$."
   ]
  },
  {
   "cell_type": "code",
   "execution_count": 6,
   "metadata": {},
   "outputs": [],
   "source": [
    "def constant_ris_phases(num_samples=50000, num_elements=[5, 10, 20, 50]):\n",
    "    fig, axs = plt.subplots()\n",
    "    def update(show_approx=True):\n",
    "        axs.clear()\n",
    "        axs.set_xlabel(\"Rate $R$\")\n",
    "        axs.set_ylabel(\"Outage Probability $\\\\varepsilon$\")\n",
    "        for _num_elements in num_elements:\n",
    "            channel_realizations = rvs_channel_phases(_num_elements, num_samples)\n",
    "            const_phase = gains_constant_phase(channel_realizations)\n",
    "            capac_const_phase = np.log2(1 + const_phase)\n",
    "            _hist = np.histogram(capac_const_phase, bins=100)\n",
    "            _r_ax = np.linspace(min(capac_const_phase)*.9, max(capac_const_phase)*1.1, 1000)\n",
    "            cdf_hist = stats.rv_histogram(_hist).cdf(_r_ax)\n",
    "            axs.plot(_r_ax, cdf_hist, label=\"Empirical CDF N={:d}\".format(_num_elements))\n",
    "            if show_approx:\n",
    "                cdf_appr = 1. - np.exp(-(2**_r_ax-1)/_num_elements)  # N --> oo, for sum\n",
    "                axs.plot(_r_ax, cdf_appr, '--', label=\"Approximate N={:d}\".format(_num_elements))\n",
    "        axs.legend()\n",
    "    interact(update, show_approx=True)"
   ]
  },
  {
   "cell_type": "markdown",
   "metadata": {},
   "source": [
    "The plot below shows the outage probability for this scenario with fixed RIS phases."
   ]
  },
  {
   "cell_type": "code",
   "execution_count": 8,
   "metadata": {},
   "outputs": [
    {
     "data": {
      "application/vnd.jupyter.widget-view+json": {
       "model_id": "519157558fd8473f907df4e66a69e372",
       "version_major": 2,
       "version_minor": 0
      },
      "text/plain": [
       "Canvas(toolbar=Toolbar(toolitems=[('Home', 'Reset original view', 'home', 'home'), ('Back', 'Back to previous …"
      ]
     },
     "metadata": {},
     "output_type": "display_data"
    },
    {
     "data": {
      "application/vnd.jupyter.widget-view+json": {
       "model_id": "ef191414745a49c98c188882b2e6d6ee",
       "version_major": 2,
       "version_minor": 0
      },
      "text/plain": [
       "interactive(children=(Checkbox(value=True, description='show_approx'), Output()), _dom_classes=('widget-intera…"
      ]
     },
     "metadata": {},
     "output_type": "display_data"
    }
   ],
   "source": [
    "constant_ris_phases(num_elements=[5, 10, 20, 50])"
   ]
  },
  {
   "cell_type": "markdown",
   "metadata": {},
   "source": [
    "# Random RIS Phases\n",
    "\n",
    "Next, we consider phase hopping at the RIS, i.e., the phases $\\theta_i$ of the individual elements are varyied randomly with each transmitted symbol.\n",
    "\n",
    "In the beginning, we consider continuous phases which are uniformly distributed over $[0, 2\\pi]$."
   ]
  },
  {
   "cell_type": "markdown",
   "metadata": {},
   "source": [
    "## Two-Element RIS\n",
    "\n",
    "First, we set the number of RIS elements to $N=2$."
   ]
  },
  {
   "cell_type": "code",
   "execution_count": 9,
   "metadata": {},
   "outputs": [],
   "source": [
    "def cdf_ergodic_capac_two_elements(rate, copula=\"indep\"):\n",
    "    if copula.startswith(\"comon\"):\n",
    "        #pdf = 2./(np.pi*np.sqrt(2-2**rate))\n",
    "        cdf = 2/np.pi * np.arcsin(0.5 * np.sqrt(2**rate-1))\n",
    "        cdf[np.isnan(cdf)] = 1.\n",
    "    elif copula.startswith(\"indep\"):\n",
    "        #ergodic = -(np.exp(1/2)*special.expi(-1/2))/(np.log(2)) #approximation\n",
    "        ergodic = np.arccosh(3/2)/np.log(2)\n",
    "        cdf = np.heaviside(rate-ergodic, .5)\n",
    "    elif copula.startswith(\"counter\"):\n",
    "        ergodic = np.arccosh(3/2)/np.log(2)\n",
    "        cdf = np.heaviside(rate-ergodic, .5)\n",
    "    return cdf\n",
    "\n",
    "def two_element_fast_fading(num_samples_slow=1000, num_samples_fast=5000):\n",
    "    fig, axs = plt.subplots()\n",
    "    num_elements = 2\n",
    "    dependencies = [\"comon\", \"counter\", \"indep\"]\n",
    "    channel_realizations = rvs_channel_phases(num_elements, num_samples_slow)\n",
    "    channel_realizations = np.tile(channel_realizations, (num_samples_fast, 1, 1))\n",
    "    for _dependency in dependencies:\n",
    "        print(\"Working on '{}'\".format(_dependency))\n",
    "        ris_phases = rvs_ris_phases(num_elements, num_samples_slow, num_samples_fast, copula=_dependency)\n",
    "        total_phase = channel_realizations + ris_phases\n",
    "        const_phase = gains_constant_phase(total_phase)\n",
    "        capac_const_phase = np.log2(1 + const_phase)\n",
    "        expect_capac = np.mean(capac_const_phase, axis=0)\n",
    "        _hist = np.histogram(expect_capac, bins=100)\n",
    "        _r_ax = np.linspace(0, 3, 1000)\n",
    "        cdf_hist = stats.rv_histogram(_hist).cdf(_r_ax)\n",
    "        cdf_exact = cdf_ergodic_capac_two_elements(_r_ax, copula=_dependency)\n",
    "        axs.plot(_r_ax, cdf_hist, label=\"ECDF -- {}\".format(_dependency))\n",
    "        axs.plot(_r_ax, cdf_exact, '--', label=\"Exact -- {}\".format(_dependency))\n",
    "    axs.legend()\n",
    "    axs.set_title(\"Artificial Fast Fading with N={:d} RIS Elements\".format(num_elements))\n",
    "    axs.set_xlabel(\"Rate $R$\")\n",
    "    axs.set_ylabel(\"Outage Probability\")"
   ]
  },
  {
   "cell_type": "markdown",
   "metadata": {},
   "source": [
    "The following plot shows the outage probability for the two-element RIS when phase hopping is performed.\n",
    "Three different dependencies between the two phases $\\theta_1$ and $\\theta_2$ are considered.\n",
    "\n",
    "1. _Comonotonicity:_ The two phases are set to the same value. This effectively reduces the two-element RIS to a one-element one.\n",
    "2. _Independence:_ The two phases are set independently from one another.\n",
    "3. _Counter-Monotonicity:_ The two phases are set to \"opposite\" values, i.e., $\\theta_2=2\\pi-\\theta_1$."
   ]
  },
  {
   "cell_type": "code",
   "execution_count": 10,
   "metadata": {},
   "outputs": [
    {
     "data": {
      "application/vnd.jupyter.widget-view+json": {
       "model_id": "8003fc7b3454454882ce258824629522",
       "version_major": 2,
       "version_minor": 0
      },
      "text/plain": [
       "Canvas(toolbar=Toolbar(toolitems=[('Home', 'Reset original view', 'home', 'home'), ('Back', 'Back to previous …"
      ]
     },
     "metadata": {},
     "output_type": "display_data"
    },
    {
     "name": "stdout",
     "output_type": "stream",
     "text": [
      "Working on 'comon'\n"
     ]
    },
    {
     "name": "stderr",
     "output_type": "stream",
     "text": [
      "<ipython-input-9-dd673a9dad76>:4: RuntimeWarning: invalid value encountered in arcsin\n",
      "  cdf = 2/np.pi * np.arcsin(0.5 * np.sqrt(2**rate-1))\n"
     ]
    },
    {
     "name": "stdout",
     "output_type": "stream",
     "text": [
      "Working on 'counter'\n",
      "Working on 'indep'\n"
     ]
    }
   ],
   "source": [
    "two_element_fast_fading()"
   ]
  },
  {
   "cell_type": "markdown",
   "metadata": {},
   "source": [
    "## N-Element RIS"
   ]
  },
  {
   "cell_type": "markdown",
   "metadata": {},
   "source": [
    "After restricting the simulations to a two-element RIS, we now extend it to the general $N$-element case."
   ]
  },
  {
   "cell_type": "code",
   "execution_count": 11,
   "metadata": {},
   "outputs": [],
   "source": [
    "def n_element_fast_fading(num_samples_slow=1000, num_samples_fast=5000):\n",
    "    fig, axs = plt.subplots()\n",
    "    def update(num_elements=3):\n",
    "        axs.clear()\n",
    "        channel_realizations = rvs_channel_phases(num_elements, num_samples_slow)\n",
    "        channel_realizations = np.tile(channel_realizations, (num_samples_fast, 1, 1))\n",
    "        ris_phases = rvs_ris_phases(num_elements, num_samples_slow, num_samples_fast, copula=\"indep\")\n",
    "        channel_realizations = channel_realizations + ris_phases\n",
    "        const_phase = gains_constant_phase(channel_realizations)\n",
    "        capac_const_phase = np.log2(1 + const_phase)\n",
    "        expect_capac = np.mean(capac_const_phase, axis=0)\n",
    "        _hist = np.histogram(expect_capac, bins=100)\n",
    "        _r_ax = np.linspace(0, 3, 1000)\n",
    "        cdf_hist = stats.rv_histogram(_hist).cdf(_r_ax)\n",
    "        axs.plot(_r_ax, cdf_hist)\n",
    "        axs.set_title(\"Artificial Fast Fading with N={:d} RIS Elements\".format(num_elements))\n",
    "        axs.set_xlabel(\"Rate $R$\")\n",
    "        axs.set_ylabel(\"Outage Probability\")\n",
    "    interact_manual(update, num_elements=(2, 10, 1))"
   ]
  },
  {
   "cell_type": "markdown",
   "metadata": {},
   "source": [
    "The following plot shows the outage probability for phase hopping of an $N$-element RIS with independently varied phases.\n",
    "\n",
    "_Please note:_ In order to run the simulation, you need to first set the desired number of elements with the slider and then hit `Run Interact` to start the calculations."
   ]
  },
  {
   "cell_type": "code",
   "execution_count": 13,
   "metadata": {},
   "outputs": [
    {
     "data": {
      "application/vnd.jupyter.widget-view+json": {
       "model_id": "0d0be2198eeb4b8d9fb681f4ceb95a4a",
       "version_major": 2,
       "version_minor": 0
      },
      "text/plain": [
       "Canvas(toolbar=Toolbar(toolitems=[('Home', 'Reset original view', 'home', 'home'), ('Back', 'Back to previous …"
      ]
     },
     "metadata": {},
     "output_type": "display_data"
    },
    {
     "data": {
      "application/vnd.jupyter.widget-view+json": {
       "model_id": "2f744c24fa30403bb147dbf51d49bb0f",
       "version_major": 2,
       "version_minor": 0
      },
      "text/plain": [
       "interactive(children=(IntSlider(value=3, description='num_elements', max=10, min=2), Button(description='Run I…"
      ]
     },
     "metadata": {},
     "output_type": "display_data"
    }
   ],
   "source": [
    "n_element_fast_fading()"
   ]
  },
  {
   "cell_type": "markdown",
   "metadata": {},
   "source": [
    "## Quantized Phases\n",
    "\n",
    "In the previous examples, we only considered continuous phases with a uniform distribution over $[0, 2\\pi]$.  \n",
    "We now switch to the assumption that only a discrete set of RIS phases is available. They are given by uniformly quantizing $[0, 2\\pi]$ in $K$ steps.\n",
    "The individual RIS phases are then randomly drawn from this set, i.e.,\n",
    "$$\\theta_i \\in Q=\\left\\{k \\frac{2\\pi}{K} \\;\\middle|\\; k=0, \\dots{}, K-1\\right\\}, \\quad i=1, \\dots{}, N.$$"
   ]
  },
  {
   "cell_type": "code",
   "execution_count": 16,
   "metadata": {},
   "outputs": [],
   "source": [
    "def quantized_two_phases_two_elements(num_samples_slow=1000, num_samples_fast=50000):\n",
    "    fig, axs = plt.subplots()\n",
    "    num_elements = 2\n",
    "    dependency = \"indep\"\n",
    "    channel_realizations = rvs_channel_phases(num_elements, num_samples_slow)\n",
    "    channel_realizations = np.tile(channel_realizations, (num_samples_fast, 1, 1))\n",
    "    ris_phases = rvs_ris_phases_quant(num_elements, num_samples_slow, num_samples_fast,\n",
    "                                      copula=dependency, K=2)\n",
    "    total_phases = channel_realizations + ris_phases\n",
    "    const_phase = gains_constant_phase(total_phases)\n",
    "    capac_const_phase = np.log2(1 + const_phase)\n",
    "    expect_capac = np.mean(capac_const_phase, axis=0)\n",
    "    _hist = np.histogram(expect_capac, bins=100)\n",
    "    _r_ax = np.linspace(0, 3, 1000)\n",
    "    cdf_hist = stats.rv_histogram(_hist).cdf(_r_ax)\n",
    "    zoc = 0.5*np.log2(5)\n",
    "    axs.plot(_r_ax, cdf_hist, label=\"ECDF\")\n",
    "    axs.vlines(zoc, 0, 1, 'r', label=\"ZOC -- Exact\")\n",
    "    axs.legend()\n",
    "    axs.set_title(\"Artificial Fast Fading with N={:d} RIS Elements\\nQuantized Phases with 2 Quantization Steps\".format(num_elements))\n",
    "    axs.set_xlabel(\"Rate $R$\")\n",
    "    axs.set_ylabel(\"Outage Probability $\\\\varepsilon$\")"
   ]
  },
  {
   "cell_type": "markdown",
   "metadata": {},
   "source": [
    "The following plot shows the outage probability for a two-element RIS ($N=2$) with only two possible phase values ($K=2$).\n",
    "The phases are i.i.d. uniformly varied.\n",
    "For comparison, we additionally show the theoretical zero-outage capacity (ZOC).\n",
    "\n",
    "_Please note:_ Since we only average over a finite number of fast-fading samples, there might be realizations that are less than the theoretical ZOC."
   ]
  },
  {
   "cell_type": "code",
   "execution_count": 18,
   "metadata": {},
   "outputs": [
    {
     "data": {
      "application/vnd.jupyter.widget-view+json": {
       "model_id": "2f3d756482ea42c9ae1c8e8838c986ff",
       "version_major": 2,
       "version_minor": 0
      },
      "text/plain": [
       "Canvas(toolbar=Toolbar(toolitems=[('Home', 'Reset original view', 'home', 'home'), ('Back', 'Back to previous …"
      ]
     },
     "metadata": {},
     "output_type": "display_data"
    }
   ],
   "source": [
    "quantized_two_phases_two_elements(num_samples_fast=10000)"
   ]
  }
 ],
 "metadata": {
  "kernelspec": {
   "display_name": "Python 3",
   "language": "python",
   "name": "python3"
  },
  "language_info": {
   "codemirror_mode": {
    "name": "ipython",
    "version": 3
   },
   "file_extension": ".py",
   "mimetype": "text/x-python",
   "name": "python",
   "nbconvert_exporter": "python",
   "pygments_lexer": "ipython3",
   "version": "3.9.6"
  }
 },
 "nbformat": 4,
 "nbformat_minor": 4
}
